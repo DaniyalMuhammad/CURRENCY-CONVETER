{
 "cells": [
  {
   "attachments": {},
   "cell_type": "markdown",
   "id": "6eb4c481",
   "metadata": {},
   "source": [
    "# CURRENCY-CONVERTER-DESIGN-BY-MUHAMMAD-DANIYAL-BCS203034"
   ]
  },
  {
   "cell_type": "code",
   "execution_count": 1,
   "id": "9118b7ab",
   "metadata": {},
   "outputs": [
    {
     "ename": "ModuleNotFoundError",
     "evalue": "No module named 'requests'",
     "output_type": "error",
     "traceback": [
      "\u001b[1;31m---------------------------------------------------------------------------\u001b[0m",
      "\u001b[1;31mModuleNotFoundError\u001b[0m                       Traceback (most recent call last)",
      "Cell \u001b[1;32mIn[1], line 3\u001b[0m\n\u001b[0;32m      1\u001b[0m \u001b[39mimport\u001b[39;00m \u001b[39mtkinter\u001b[39;00m \u001b[39mas\u001b[39;00m \u001b[39mtk\u001b[39;00m \u001b[39m# importing tkinter library\u001b[39;00m\n\u001b[0;32m      2\u001b[0m \u001b[39mfrom\u001b[39;00m \u001b[39mtkinter\u001b[39;00m \u001b[39mimport\u001b[39;00m ttk\n\u001b[1;32m----> 3\u001b[0m \u001b[39mimport\u001b[39;00m \u001b[39mrequests\u001b[39;00m      \u001b[39m# importing libraries for making connection with API\u001b[39;00m\n\u001b[0;32m      4\u001b[0m \u001b[39mimport\u001b[39;00m \u001b[39mdatetime\u001b[39;00m \n",
      "\u001b[1;31mModuleNotFoundError\u001b[0m: No module named 'requests'"
     ]
    }
   ],
   "source": [
    "import tkinter as tk # importing tkinter library\n",
    "from tkinter import ttk\n",
    "import requests      # importing library for making connection with API\n"
   ]
  },
  {
   "attachments": {},
   "cell_type": "markdown",
   "id": "6416a48d",
   "metadata": {},
   "source": [
    "# Fetching the Currency list through openxchargerates.org API\n"
   ]
  },
  {
   "cell_type": "code",
   "execution_count": 2,
   "id": "d40726a6",
   "metadata": {},
   "outputs": [],
   "source": [
    "# API Key\n",
    "API_KEY = \"57f68e8031dd4dd4a8256f13d8e9db93\"\n",
    "\n",
    "# Fetch the currency list\n",
    "url = f\"https://openexchangerates.org/api/currencies.json\"\n",
    "response = requests.get(url)\n",
    "currency_data = response.json()\n",
    "currencies = sorted(currency_data.keys())\n"
   ]
  },
  {
   "attachments": {},
   "cell_type": "markdown",
   "id": "10a63f68",
   "metadata": {},
   "source": [
    "# By Using This Function We Will Get The List of Rate's Of Currency "
   ]
  },
  {
   "cell_type": "code",
   "execution_count": 3,
   "id": "8691c8b3",
   "metadata": {},
   "outputs": [],
   "source": [
    "# Function to fetch conversion rates\n",
    "def fetch_conversion_rates(base_currency):\n",
    "    url = f\"https://openexchangerates.org/api/latest.json?app_id={API_KEY}&base={base_currency}\"\n",
    "    response = requests.get(url)\n",
    "    if response.status_code != 200:\n",
    "\n",
    "        # API call failed, return None\n",
    "        print(f\"Error fetching conversion rates: {response.status_code} - {response.text}\")\n",
    "        return None\n",
    "    data = response.json()\n",
    "\n",
    "    if 'rates' not in data:\n",
    "        # response does not contain rates, return None\n",
    "        print(\"Error fetching conversion rates: response does not contain rates\")\n",
    "        return None\n",
    "    return data['rates']"
   ]
  },
  {
   "attachments": {},
   "cell_type": "markdown",
   "id": "c8b42445",
   "metadata": {},
   "source": [
    "# Here We Are Performing Conversion B/w Currencies"
   ]
  },
  {
   "cell_type": "code",
   "execution_count": 4,
   "id": "12625919",
   "metadata": {},
   "outputs": [],
   "source": [
    "#function for conversion form one conversion to other\n",
    "def perform_conversion():\n",
    "    amount = float(amount_entry.get())\n",
    "    from_currency = from_currency_dropdown.get()\n",
    "    to_currency = to_currency_dropdown.get()\n",
    "    if conversion_rates is None:\n",
    "        output_label.config(text=\"Error fetching conversion rates\")\n",
    "        return\n",
    "    converted_amount = amount * conversion_rates[from_currency] / conversion_rates[to_currency]\n",
    "    output_label.config(text=f\"Converted Amount: {converted_amount:.2f} {from_currency}\")"
   ]
  },
  {
   "attachments": {},
   "cell_type": "markdown",
   "id": "9e7938db",
   "metadata": {},
   "source": [
    "# By Using This Function  Able To Reset Result"
   ]
  },
  {
   "cell_type": "code",
   "execution_count": null,
   "id": "241e00a7",
   "metadata": {},
   "outputs": [],
   "source": [
    "# Function to reset the input and output fields\n",
    "def reset():\n",
    "    amount_entry.delete(0, tk.END)\n",
    "    output_label.config(text=\"\")"
   ]
  },
  {
   "attachments": {},
   "cell_type": "markdown",
   "id": "3c76f7ee",
   "metadata": {},
   "source": [
    "# Creating Main Window and Adjusting Resolution Of Display"
   ]
  },
  {
   "cell_type": "code",
   "execution_count": null,
   "id": "36254f27",
   "metadata": {},
   "outputs": [],
   "source": [
    "# Create main window\n",
    "root = tk.Tk()\n",
    "root.title(\"Daniyal's Currency Converter\")\n",
    "root.configure(bg=\"#C1CDCD\")\n",
    "intro_label = ttk.Label(root, text='Welcome to Daniyal & Co Currency Convertor', relief=tk.RAISED, borderwidth=5)\n",
    "intro_label.config(font=('Courier', 15, 'bold'))\n",
    "intro_label.pack(pady=10)\n",
    "intro_label.configure(background='#C1CDCD')\n",
    "\n",
    "# Set the window size and position\n",
    "root.geometry(\"650x600+50+50\")\n",
    "# Add a logo image\n",
    "logo_image = tk.PhotoImage(file=\"img.png\").subsample(5)\n",
    "logo_label = tk.Label(root, image=logo_image)\n",
    "logo_label.pack(pady=10)\n",
    "logo_label.configure(background='#C1CDCD')"
   ]
  },
  {
   "attachments": {},
   "cell_type": "markdown",
   "id": "c16c4129",
   "metadata": {},
   "source": [
    "# Here we Are Creating Button's And Input Widget's "
   ]
  },
  {
   "cell_type": "code",
   "execution_count": null,
   "id": "488c0c0a",
   "metadata": {},
   "outputs": [],
   "source": [
    " Create and place widgets\n",
    "amount_label = ttk.Label(root, text=\"Enter Amount:\", font=(\"Helvetica\", 14))\n",
    "amount_label.pack(pady=10)\n",
    "amount_entry = ttk.Entry(root)\n",
    "amount_entry.pack(pady=5)\n",
    "amount_label.configure(background='#C1CDCD')\n",
    "\n",
    "#taking input source or main currency\n",
    "to_currency_label = ttk.Label(root, text=\"From Currency:\")\n",
    "to_currency_label.configure(background='#C1CDCD', font=(\"Arial\", 14))\n",
    "to_currency_label.pack(pady=10)\n",
    "to_currency_dropdown = ttk.Combobox(root, values=currencies)\n",
    "to_currency_dropdown.pack(pady=5)\n",
    "to_currency_dropdown.set(\"USD\")\n",
    "\n",
    "#taking input desire currency in which want to convert\n",
    "from_currency_label = ttk.Label(root, text=\"To Currency:\")\n",
    "from_currency_label.pack(pady=10)\n",
    "from_currency_label.configure(background='#C1CDCD', font=(\"Arial\", 14))\n",
    "from_currency_dropdown = ttk.Combobox(root, values=currencies)\n",
    "from_currency_dropdown.pack(pady=5)\n",
    "from_currency_dropdown.set(\"PKR\")\n",
    "\n",
    "#button for calling perform conversion opertaion\n",
    "convert_button = ttk.Button(root, text=\"Convert\", command=perform_conversion, style=\"my.TButton\")\n",
    "convert_button.pack(pady=10)\n",
    "\n",
    "# Define a custom style for the button\n",
    "style = ttk.Style()\n",
    "style.configure(\"my.TButton\", font=(\"Helvetica\", 12), background=\"#4CAF50\")\n",
    "\n",
    "#output displaying after conversion\n",
    "output_label = ttk.Label(root, text=\"\")\n",
    "output_label.pack(pady=10)\n",
    "output_label.configure(background='#C1CDCD', font=(\"Helvetica\", 12))\n",
    "\n",
    "#reset button\n",
    "reset_button = ttk.Button(root, text=\"Reset\", command=reset, style=\"my.TButton\")\n",
    "reset_button.pack(pady=10)\n",
    "\n",
    "# Define a custom style for the button\n",
    "style = ttk.Style()\n",
    "style.configure(\"my.TButton\", font=(\"Helvetica\", 12), background=\"#4CAF50\")\n",
    "conversion_rates = fetch_conversion_rates(\"USD\")\n"
   ]
  },
  {
   "attachments": {},
   "cell_type": "markdown",
   "id": "be325611",
   "metadata": {},
   "source": [
    "# Creating Footer For Greating's"
   ]
  },
  {
   "cell_type": "code",
   "execution_count": null,
   "id": "d3ff952b",
   "metadata": {},
   "outputs": [],
   "source": [
    "#for greetings\n",
    "intro_label = ttk.Label(root, text=\"THANKS FOR VISITING US\", relief=tk.RAISED, borderwidth=5)\n",
    "intro_label.config(font=('Courier', 15, 'bold'))\n",
    "intro_label.pack(pady=10)\n",
    "intro_label.configure(background='#C1CDCD')"
   ]
  },
  {
   "attachments": {},
   "cell_type": "markdown",
   "id": "03dd0995",
   "metadata": {},
   "source": [
    "# Calling Main To Execute The Entire Code"
   ]
  },
  {
   "cell_type": "code",
   "execution_count": null,
   "id": "36c514f1",
   "metadata": {},
   "outputs": [],
   "source": [
    "#calling mainloop to operate code\n",
    "root.mainloop()"
   ]
  }
 ],
 "metadata": {
  "kernelspec": {
   "display_name": "Python 3 (ipykernel)",
   "language": "python",
   "name": "python3"
  },
  "language_info": {
   "codemirror_mode": {
    "name": "ipython",
    "version": 3
   },
   "file_extension": ".py",
   "mimetype": "text/x-python",
   "name": "python",
   "nbconvert_exporter": "python",
   "pygments_lexer": "ipython3",
   "version": "3.10.4"
  }
 },
 "nbformat": 4,
 "nbformat_minor": 5
}
